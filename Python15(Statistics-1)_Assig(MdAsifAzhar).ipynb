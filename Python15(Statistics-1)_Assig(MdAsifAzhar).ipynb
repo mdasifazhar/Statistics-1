{
 "cells": [
  {
   "cell_type": "markdown",
   "metadata": {},
   "source": [
    "###### Problem Statement 1:\n",
    "###### You survey households in your area to find the average rent they are paying. Find the standard deviation from the following data:\n",
    "######  \\\\$1550, \\\\$1700, \\\\$900, \\\\$850, \\\\$1000, \\\\$950."
   ]
  },
  {
   "cell_type": "code",
   "execution_count": 25,
   "metadata": {},
   "outputs": [
    {
     "name": "stdout",
     "output_type": "stream",
     "text": [
      "Average Rent :  [1550 1700  900  850 1000  950]\n",
      "Standard Deviation :  335.92740617910624\n"
     ]
    }
   ],
   "source": [
    "import numpy as np\n",
    "avgRent=np.array([1550,1700,900,850,1000,950])\n",
    "mean= np.mean(avgRent)\n",
    "print(\"Average Rent : \", avgRent)\n",
    "stdDev=np.std(avgRent,dtype=np.float64)\n",
    "print(\"Standard Deviation : \", stdDev)\n"
   ]
  },
  {
   "cell_type": "markdown",
   "metadata": {},
   "source": [
    "###### Problem Statement 2:\n",
    "###### Find the variance for the following set of data representing trees in California (heights in feet): \n",
    "######     3, 21, 98, 203, 17, 9"
   ]
  },
  {
   "cell_type": "code",
   "execution_count": 13,
   "metadata": {},
   "outputs": [
    {
     "name": "stdout",
     "output_type": "stream",
     "text": [
      "Heights of Trees : [  3  21  98 203  17   9]\n",
      "Variance is :  5183.25\n"
     ]
    }
   ],
   "source": [
    "import numpy as np\n",
    "class Variance:\n",
    "    def __init__(self,lst):\n",
    "        self.lst=lst\n",
    "    def calculateVariance(self):\n",
    "        treesHgt=np.array(self.lst)\n",
    "        print(\"Heights of Trees :\", treesHgt)\n",
    "        var= np.var(treesHgt,dtype=np.float64)\n",
    "        print(\"Variance is : \", var)\n",
    "\n",
    "lst=[3, 21, 98, 203, 17, 9]\n",
    "obj = Variance(lst)\n",
    "obj.calculateVariance()"
   ]
  },
  {
   "cell_type": "markdown",
   "metadata": {},
   "source": [
    "###### Problem Statement 3:\n",
    "###### In a class on 100 students, 80 students passed in all subjects, 10 failed in one subject, 7 failed in two subjects and 3 failed in three subjects. Find the probability distribution of the variable for number of subjects a student from the given class has failed in."
   ]
  },
  {
   "cell_type": "code",
   "execution_count": 21,
   "metadata": {},
   "outputs": [],
   "source": [
    "'''Total Number of student = 100\n",
    "    Student passed in all sub = 80 \n",
    "    Student failed in one Sub = 10 \n",
    "    Student failed in two sub = 7 \n",
    "    Student failed in threee sub = 3'''\n",
    "class ProbabilityDistribution:\n",
    "    def __init__(self,sampleSapce):\n",
    "         self.sampleSpace=sampleSapce\n",
    "    def findProbabilityDistribution(self,noOfStudent):\n",
    "        return noOfStudent/self.sampleSpace"
   ]
  },
  {
   "cell_type": "code",
   "execution_count": 24,
   "metadata": {},
   "outputs": [
    {
     "name": "stdout",
     "output_type": "stream",
     "text": [
      "Probability failed in one Sub : 0.10 \n",
      "Probability failed in two Sub : 0.07 \n",
      "Probability failed in one Sub : 0.03 \n"
     ]
    }
   ],
   "source": [
    "\n",
    "class Test:\n",
    "    sampleSapce=100\n",
    "    obj=ProbabilityDistribution(sampleSapce) \n",
    "    print(\"Probability failed in one Sub : %.2f \" % obj.findProbabilityDistribution(10))\n",
    "    print(\"Probability failed in two Sub : %.2f \" % obj.findProbabilityDistribution(7))\n",
    "    print(\"Probability failed in one Sub : %.2f \" % obj.findProbabilityDistribution(3))"
   ]
  },
  {
   "cell_type": "code",
   "execution_count": null,
   "metadata": {
    "collapsed": true
   },
   "outputs": [],
   "source": []
  }
 ],
 "metadata": {
  "kernelspec": {
   "display_name": "Python 3",
   "language": "python",
   "name": "python3"
  },
  "language_info": {
   "codemirror_mode": {
    "name": "ipython",
    "version": 3
   },
   "file_extension": ".py",
   "mimetype": "text/x-python",
   "name": "python",
   "nbconvert_exporter": "python",
   "pygments_lexer": "ipython3",
   "version": "3.6.5"
  }
 },
 "nbformat": 4,
 "nbformat_minor": 2
}
